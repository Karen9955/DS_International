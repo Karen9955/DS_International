{
  "nbformat": 4,
  "nbformat_minor": 0,
  "metadata": {
    "_change_revision": 36,
    "_is_fork": false,
    "colab": {
      "name": "2.2.МООК Задание на взаимную проверку",
      "provenance": [],
      "collapsed_sections": [],
      "include_colab_link": true
    },
    "kernelspec": {
      "display_name": "Python 3",
      "language": "python",
      "name": "python3"
    },
    "language_info": {
      "codemirror_mode": {
        "name": "ipython",
        "version": 3
      },
      "file_extension": ".py",
      "mimetype": "text/x-python",
      "name": "python",
      "nbconvert_exporter": "python",
      "pygments_lexer": "ipython3",
      "version": "3.7.3"
    }
  },
  "cells": [
    {
      "cell_type": "markdown",
      "metadata": {
        "id": "view-in-github",
        "colab_type": "text"
      },
      "source": [
        "<a href=\"https://colab.research.google.com/github/Karen9955/DS_International/blob/master/2_2_%D0%9C%D0%9E%D0%9E%D0%9A_%D0%97%D0%B0%D0%B4%D0%B0%D0%BD%D0%B8%D0%B5_%D0%BD%D0%B0_%D0%B2%D0%B7%D0%B0%D0%B8%D0%BC%D0%BD%D1%83%D1%8E_%D0%BF%D1%80%D0%BE%D0%B2%D0%B5%D1%80%D0%BA%D1%83.ipynb\" target=\"_parent\"><img src=\"https://colab.research.google.com/assets/colab-badge.svg\" alt=\"Open In Colab\"/></a>"
      ]
    },
    {
      "cell_type": "markdown",
      "metadata": {
        "id": "1WXgvGKLbnut"
      },
      "source": [
        "#Задание на взаимную проверку по разделу 2.2. AdaBoost. Градиентный бустинг.\n"
      ]
    },
    {
      "cell_type": "markdown",
      "metadata": {
        "id": "-_z1EDo5c3kK"
      },
      "source": [
        "##План\n",
        "1. Рассмотрение примера построения алгоритма Adaboost и GBM \n",
        "2. Задания по обучению и оценке моделей Adaboost и GBM (градиентный бустинг) для задачи классификации на примере прогнозирования уровня дохода потенциальных клиентов банка \n"
      ]
    },
    {
      "cell_type": "markdown",
      "metadata": {
        "id": "eIz0vvTG5ybi"
      },
      "source": [
        "# 1.Построение алгоритмов AdaBoost и GBM для задачи классификации на примере прогнозирования уровня дохода потенциальных клиентов банка"
      ]
    },
    {
      "cell_type": "markdown",
      "metadata": {
        "id": "dk80DzdA_gXY"
      },
      "source": [
        "#2.Задания по обучению и оценке моделей Adaboost и GBM (градиентный бустинг) для задачи классификации на примере прогнозирования уровня дохода потенциальных клиентов банка "
      ]
    },
    {
      "cell_type": "markdown",
      "metadata": {
        "id": "JiLH6oZxPjYk"
      },
      "source": [
        "\n",
        "\n",
        "В качестве данных возьмем датасет о доходах граждан в различных странах - Adult Income (https://archive.ics.uci.edu/ml/datasets/Adult). Скачайте две таблицы для обучения и теста. Далее в блокноте приведено решение для этапа предобработки данных, изучите и обработайте входные данные для тестовой выборки по аналогии с обучающей.\n",
        "\n",
        "Далее выполните этапы машинного обучени последовательно:\n",
        "\n",
        "Разбить таблицу данных на матрицы X и y.\n",
        "Обучить алгоритм AdaBoost и подобрать лучшие гиперпараметры (2 балла).\n",
        "Обучить алгоритм градиентный бустинг (GBM) и подобрать лучшие гиперпараметры (2 балла).\n",
        "Посчитать значения метрик accuracy, precision, recall (1 балл)\n"
      ]
    },
    {
      "cell_type": "code",
      "metadata": {
        "id": "ko7txf_ORnfU"
      },
      "source": [
        "import pandas as pd"
      ],
      "execution_count": null,
      "outputs": []
    },
    {
      "cell_type": "code",
      "metadata": {
        "id": "4QZWeO5oRsJe"
      },
      "source": [
        "adult = pd.read_csv('adult.data',\n",
        "                    names=['age', 'workclass', 'fnlwgt', 'education',\n",
        "                           'education-num', 'marital-status', 'occupation',\n",
        "                           'relationship', 'race', 'sex', 'capital-gain',\n",
        "                           'capital-loss', 'hours-per-week', 'native-country', 'salary'])"
      ],
      "execution_count": null,
      "outputs": []
    },
    {
      "cell_type": "code",
      "metadata": {
        "id": "v77_GOdbR7OQ"
      },
      "source": [
        "# Удалим лишние признаки\n",
        "adult.drop(['native-country'], axis=1, inplace=True)\n",
        "# Преобразуем целевую переменную в бинарные значения, ниже 50 тысяч - 0, выше -1\n",
        "adult['salary'] = (adult['salary'] != ' <=50K').astype('int32')\n",
        "# Преорбазуем категориальные данные в числовые\n",
        "adult = pd.get_dummies(adult, columns=['workclass', 'education', 'marital-status', 'occupation', 'relationship', 'race', 'sex'])"
      ],
      "execution_count": null,
      "outputs": []
    },
    {
      "cell_type": "code",
      "metadata": {
        "id": "mvzQVuMfSG1g"
      },
      "source": [
        "# Нормализовать нуждающиеся в этом признаки\n",
        "a_features = adult[['age', 'education-num', 'hours-per-week', 'fnlwgt', 'capital-gain', 'capital-loss']].values\n",
        "norm_features = (a_features - a_features.mean(axis=0)) / a_features.std(axis=0)\n",
        "adult.loc[:, ['age', 'education-num', 'hours-per-week', 'fnlwgt', 'capital-gain', 'capital-loss']] = norm_features"
      ],
      "execution_count": null,
      "outputs": []
    }
  ]
}